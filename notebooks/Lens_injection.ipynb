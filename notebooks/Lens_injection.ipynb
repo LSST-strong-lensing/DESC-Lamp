{
 "cells": [
  {
   "cell_type": "markdown",
   "id": "94041dfb-7893-4869-9a61-92d7e0ad2cf5",
   "metadata": {},
   "source": [
    "# Synthetic strong gravitational lens injection Demo"
   ]
  },
  {
   "cell_type": "markdown",
   "id": "f9a795cc-4f8a-4280-9ccb-a4350df12338",
   "metadata": {},
   "source": [
    "This notebook shows how to insert synthetic lensed sources behind DC2 and Rubin images."
   ]
  },
  {
   "cell_type": "markdown",
   "id": "24743224-a682-411d-b57e-2d67c2712487",
   "metadata": {},
   "source": [
    "\n",
    "Owner: **Rémy Joseph** ([@herjy](https://github.com/herjy/DESC-Lamp))\n",
    "<br>Last Verified to Run: **2021-11-22** (by @herjy)\n",
    "\n",
    "This early version of the demo aims at generating a lensed source galaxy image with an arbitrary lens profile and insert it in the background of an existing DC2 image of a galaxy at the coadd level. \n",
    "\n",
    "The content of this notebook builds up on the sythetic sourrce injection (example notebook){https://github.com/LSSTDESC/ssi-tools/blob/main/examples/DC2_calexp_injection.ipynb} by Josh Meyers inn the ssi tools packa\n",
    "\n",
    "### Logistics\n",
    "This is intended to be runnable at NERSC through the https://jupyter.nersc.gov interface from a local git clone of https://github.com/herjy/DESC-Lamp in your NERSC directory.  But you can also run it wherever, with appropriate adjustment of the 'repo' location to point to a place where you have a Butler repo will all of the images. \n",
    "\n",
    "This notebook uses the `desc-stack-weekly-latest` kernel. Instructions for setting up the proper DESC python kernel can be found here: https://confluence.slac.stanford.edu/x/o5DVE"
   ]
  },
  {
   "cell_type": "code",
   "execution_count": 10,
   "id": "d2629a40-8e51-4de6-9331-7e6cfb1ad883",
   "metadata": {
    "execution": {
     "iopub.execute_input": "2023-02-23T19:39:21.582860Z",
     "iopub.status.busy": "2023-02-23T19:39:21.581906Z",
     "iopub.status.idle": "2023-02-23T19:39:21.587456Z",
     "shell.execute_reply": "2023-02-23T19:39:21.586955Z",
     "shell.execute_reply.started": "2023-02-23T19:39:21.582818Z"
    },
    "tags": []
   },
   "outputs": [],
   "source": [
    "import sys\n",
    "sys.path.append(\"/home/alxogm/notebooks/mytutorial/psf_lensing/DESC-Lamp/\")\n",
    "\n",
    "# A few common packages\n",
    "import numpy as np\n",
    "import matplotlib.pyplot as plt\n",
    "import matplotlib.pyplot as plt\n",
    "from matplotlib.transforms import Affine2D\n",
    "import pickle\n",
    "import pandas as pd\n",
    "%matplotlib inline\n",
    "\n",
    "# And also DESC packages to get the data path\n",
    "#import GCRCatalogs\n",
    "\n",
    "import galsim\n",
    "\n",
    "from desclamp import train_set\n",
    "\n",
    "import lsst.daf.butler as dafButler\n",
    "import lsst.geom as geom"
   ]
  },
  {
   "cell_type": "markdown",
   "id": "0de0cf09-cdef-4e9d-b263-4c7343231e03",
   "metadata": {},
   "source": [
    "## Setup \n",
    "Fetchinng Butler for deep coadd of run 2.2i dr6, wide field deep. and extracting cutout information for a given location"
   ]
  },
  {
   "cell_type": "code",
   "execution_count": 27,
   "id": "5080b9ce-dd78-4fc9-889a-3038f3e29e57",
   "metadata": {
    "execution": {
     "iopub.execute_input": "2023-02-23T22:40:00.431120Z",
     "iopub.status.busy": "2023-02-23T22:40:00.430559Z",
     "iopub.status.idle": "2023-02-23T22:40:04.281914Z",
     "shell.execute_reply": "2023-02-23T22:40:04.281188Z",
     "shell.execute_reply.started": "2023-02-23T22:40:00.431100Z"
    },
    "tags": []
   },
   "outputs": [],
   "source": [
    "config = \"dp02\"\n",
    "collection ='2.2i/runs/DP0.2'\n",
    "butler = dafButler.Butler(config, collections=collection)\n",
    "skymap = butler.get(\"skyMap\")\n",
    "\n",
    "# Near the center of DC2\n",
    "ra = 62.541629  # degrees\n",
    "dec = -37.852021 # degrees\n",
    "point = geom.SpherePoint(ra, dec, geom.degrees)\n",
    "cutoutSize = geom.ExtentI(201, 201)\n",
    "\n",
    "\n",
    "#Read this from the table we have at hand... \n",
    "tractInfo = skymap.findTract(point)\n",
    "patchInfo = tractInfo.findPatch(point)\n",
    "xy = geom.PointI(tractInfo.getWcs().skyToPixel(point))\n",
    "bbox = geom.BoxI(xy - cutoutSize//2, cutoutSize)\n",
    "coaddId = {\n",
    "    'tract':3638, \n",
    "    'patch':27,\n",
    "    'band':'r'\n",
    "}\n",
    "coadd = butler.get(\"deepCoadd\",parameters={'bbox':bbox}, dataId=coaddId)\n",
    "\n"
   ]
  },
  {
   "cell_type": "code",
   "execution_count": 28,
   "id": "11e32c2e-0f5d-448d-81be-bc323e89e7f2",
   "metadata": {
    "execution": {
     "iopub.execute_input": "2023-02-23T22:40:04.294697Z",
     "iopub.status.busy": "2023-02-23T22:40:04.294517Z",
     "iopub.status.idle": "2023-02-23T22:40:04.297155Z",
     "shell.execute_reply": "2023-02-23T22:40:04.296698Z",
     "shell.execute_reply.started": "2023-02-23T22:40:04.294679Z"
    },
    "tags": []
   },
   "outputs": [],
   "source": [
    "from tqdm import tqdm"
   ]
  },
  {
   "cell_type": "code",
   "execution_count": 30,
   "id": "00d31928-6bcb-4bf5-b71f-adc484fa0120",
   "metadata": {
    "execution": {
     "iopub.execute_input": "2023-02-23T22:43:19.875846Z",
     "iopub.status.busy": "2023-02-23T22:43:19.875238Z",
     "iopub.status.idle": "2023-02-23T22:43:19.878446Z",
     "shell.execute_reply": "2023-02-23T22:43:19.877968Z",
     "shell.execute_reply.started": "2023-02-23T22:43:19.875825Z"
    }
   },
   "outputs": [],
   "source": [
    "from lsst.skymap import makeSkyPolygonFromBBox"
   ]
  },
  {
   "cell_type": "code",
   "execution_count": 37,
   "id": "b1811744-ccc9-4370-ba7f-b5ed63009418",
   "metadata": {
    "execution": {
     "iopub.execute_input": "2023-02-23T22:47:59.566638Z",
     "iopub.status.busy": "2023-02-23T22:47:59.565770Z",
     "iopub.status.idle": "2023-02-23T22:59:04.105303Z",
     "shell.execute_reply": "2023-02-23T22:59:04.104249Z",
     "shell.execute_reply.started": "2023-02-23T22:47:59.566611Z"
    },
    "tags": []
   },
   "outputs": [
    {
     "name": "stderr",
     "output_type": "stream",
     "text": [
      " 79%|███████▊  | 383/487 [11:04<03:00,  1.73s/it]\n"
     ]
    },
    {
     "ename": "KeyboardInterrupt",
     "evalue": "",
     "output_type": "error",
     "traceback": [
      "\u001b[0;31m---------------------------------------------------------------------------\u001b[0m",
      "\u001b[0;31mKeyboardInterrupt\u001b[0m                         Traceback (most recent call last)",
      "Input \u001b[0;32mIn [37]\u001b[0m, in \u001b[0;36m<cell line: 3>\u001b[0;34m()\u001b[0m\n\u001b[1;32m      3\u001b[0m \u001b[38;5;28;01mfor\u001b[39;00m ccd \u001b[38;5;129;01min\u001b[39;00m tqdm(coadd\u001b[38;5;241m.\u001b[39mgetInfo()\u001b[38;5;241m.\u001b[39mgetCoaddInputs()\u001b[38;5;241m.\u001b[39mccds):\n\u001b[1;32m      4\u001b[0m     dataId \u001b[38;5;241m=\u001b[39m {\n\u001b[1;32m      5\u001b[0m         \u001b[38;5;124m'\u001b[39m\u001b[38;5;124mvisit\u001b[39m\u001b[38;5;124m'\u001b[39m:ccd[\u001b[38;5;124m'\u001b[39m\u001b[38;5;124mvisit\u001b[39m\u001b[38;5;124m'\u001b[39m], \n\u001b[1;32m      6\u001b[0m         \u001b[38;5;124m'\u001b[39m\u001b[38;5;124mdetector\u001b[39m\u001b[38;5;124m'\u001b[39m:ccd[\u001b[38;5;124m'\u001b[39m\u001b[38;5;124mccd\u001b[39m\u001b[38;5;124m'\u001b[39m], \n\u001b[1;32m      7\u001b[0m         \u001b[38;5;124m'\u001b[39m\u001b[38;5;124mband\u001b[39m\u001b[38;5;124m'\u001b[39m:ccd[\u001b[38;5;124m'\u001b[39m\u001b[38;5;124mfilter\u001b[39m\u001b[38;5;124m'\u001b[39m],\n\u001b[1;32m      8\u001b[0m         \u001b[38;5;124m'\u001b[39m\u001b[38;5;124mtract\u001b[39m\u001b[38;5;124m'\u001b[39m:tractInfo\u001b[38;5;241m.\u001b[39mgetId()\n\u001b[1;32m      9\u001b[0m     }\n\u001b[0;32m---> 10\u001b[0m     calexp \u001b[38;5;241m=\u001b[39m \u001b[43mbutler\u001b[49m\u001b[38;5;241;43m.\u001b[39;49m\u001b[43mget\u001b[49m\u001b[43m(\u001b[49m\u001b[38;5;124;43m'\u001b[39;49m\u001b[38;5;124;43mcalexp\u001b[39;49m\u001b[38;5;124;43m'\u001b[39;49m\u001b[43m,\u001b[49m\u001b[43m \u001b[49m\u001b[43mdataId\u001b[49m\u001b[38;5;241;43m=\u001b[39;49m\u001b[43mdataId\u001b[49m\u001b[43m)\u001b[49m   \u001b[38;5;66;03m# Note 99% of cell execution time is this line and the next\u001b[39;00m\n\u001b[1;32m     11\u001b[0m     wcs\u001b[38;5;241m=\u001b[39m calexp\u001b[38;5;241m.\u001b[39mgetWcs()\n\u001b[1;32m     12\u001b[0m     bbox\u001b[38;5;241m=\u001b[39m calexp\u001b[38;5;241m.\u001b[39mgetBBox()\n",
      "File \u001b[0;32m/opt/lsst/software/stack/stack/miniconda3-py38_4.9.2-5.1.0/Linux64/daf_butler/gf8dc3d25d9+8feadece27/python/lsst/daf/butler/_butler.py:1429\u001b[0m, in \u001b[0;36mButler.get\u001b[0;34m(self, datasetRefOrType, dataId, parameters, collections, storageClass, **kwargs)\u001b[0m\n\u001b[1;32m   1374\u001b[0m \u001b[38;5;124;03m\"\"\"Retrieve a stored dataset.\u001b[39;00m\n\u001b[1;32m   1375\u001b[0m \n\u001b[1;32m   1376\u001b[0m \u001b[38;5;124;03mParameters\u001b[39;00m\n\u001b[0;32m   (...)\u001b[0m\n\u001b[1;32m   1426\u001b[0m \u001b[38;5;124;03m``exposure`` is a temporal dimension.\u001b[39;00m\n\u001b[1;32m   1427\u001b[0m \u001b[38;5;124;03m\"\"\"\u001b[39;00m\n\u001b[1;32m   1428\u001b[0m log\u001b[38;5;241m.\u001b[39mdebug(\u001b[38;5;124m\"\u001b[39m\u001b[38;5;124mButler get: \u001b[39m\u001b[38;5;132;01m%s\u001b[39;00m\u001b[38;5;124m, dataId=\u001b[39m\u001b[38;5;132;01m%s\u001b[39;00m\u001b[38;5;124m, parameters=\u001b[39m\u001b[38;5;132;01m%s\u001b[39;00m\u001b[38;5;124m\"\u001b[39m, datasetRefOrType, dataId, parameters)\n\u001b[0;32m-> 1429\u001b[0m ref \u001b[38;5;241m=\u001b[39m \u001b[38;5;28;43mself\u001b[39;49m\u001b[38;5;241;43m.\u001b[39;49m\u001b[43m_findDatasetRef\u001b[49m\u001b[43m(\u001b[49m\u001b[43mdatasetRefOrType\u001b[49m\u001b[43m,\u001b[49m\u001b[43m \u001b[49m\u001b[43mdataId\u001b[49m\u001b[43m,\u001b[49m\u001b[43m \u001b[49m\u001b[43mcollections\u001b[49m\u001b[38;5;241;43m=\u001b[39;49m\u001b[43mcollections\u001b[49m\u001b[43m,\u001b[49m\u001b[43m \u001b[49m\u001b[38;5;241;43m*\u001b[39;49m\u001b[38;5;241;43m*\u001b[39;49m\u001b[43mkwargs\u001b[49m\u001b[43m)\u001b[49m\n\u001b[1;32m   1430\u001b[0m \u001b[38;5;28;01mreturn\u001b[39;00m \u001b[38;5;28mself\u001b[39m\u001b[38;5;241m.\u001b[39mgetDirect(ref, parameters\u001b[38;5;241m=\u001b[39mparameters, storageClass\u001b[38;5;241m=\u001b[39mstorageClass)\n",
      "File \u001b[0;32m/opt/lsst/software/stack/stack/miniconda3-py38_4.9.2-5.1.0/Linux64/daf_butler/gf8dc3d25d9+8feadece27/python/lsst/daf/butler/_butler.py:1102\u001b[0m, in \u001b[0;36mButler._findDatasetRef\u001b[0;34m(self, datasetRefOrType, dataId, collections, allowUnresolved, **kwargs)\u001b[0m\n\u001b[1;32m   1097\u001b[0m     dataId \u001b[38;5;241m=\u001b[39m DataCoordinate\u001b[38;5;241m.\u001b[39mstandardize(\n\u001b[1;32m   1098\u001b[0m         dataId, graph\u001b[38;5;241m=\u001b[39mdatasetType\u001b[38;5;241m.\u001b[39mdimensions, defaults\u001b[38;5;241m=\u001b[39m\u001b[38;5;28mself\u001b[39m\u001b[38;5;241m.\u001b[39mregistry\u001b[38;5;241m.\u001b[39mdefaults\u001b[38;5;241m.\u001b[39mdataId, \u001b[38;5;241m*\u001b[39m\u001b[38;5;241m*\u001b[39mkwargs\n\u001b[1;32m   1099\u001b[0m     )\n\u001b[1;32m   1100\u001b[0m \u001b[38;5;66;03m# Always lookup the DatasetRef, even if one is given, to ensure it is\u001b[39;00m\n\u001b[1;32m   1101\u001b[0m \u001b[38;5;66;03m# present in the current collection.\u001b[39;00m\n\u001b[0;32m-> 1102\u001b[0m ref \u001b[38;5;241m=\u001b[39m \u001b[38;5;28;43mself\u001b[39;49m\u001b[38;5;241;43m.\u001b[39;49m\u001b[43mregistry\u001b[49m\u001b[38;5;241;43m.\u001b[39;49m\u001b[43mfindDataset\u001b[49m\u001b[43m(\u001b[49m\u001b[43mdatasetType\u001b[49m\u001b[43m,\u001b[49m\u001b[43m \u001b[49m\u001b[43mdataId\u001b[49m\u001b[43m,\u001b[49m\u001b[43m \u001b[49m\u001b[43mcollections\u001b[49m\u001b[38;5;241;43m=\u001b[39;49m\u001b[43mcollections\u001b[49m\u001b[43m,\u001b[49m\u001b[43m \u001b[49m\u001b[43mtimespan\u001b[49m\u001b[38;5;241;43m=\u001b[39;49m\u001b[43mtimespan\u001b[49m\u001b[43m)\u001b[49m\n\u001b[1;32m   1103\u001b[0m \u001b[38;5;28;01mif\u001b[39;00m ref \u001b[38;5;129;01mis\u001b[39;00m \u001b[38;5;28;01mNone\u001b[39;00m:\n\u001b[1;32m   1104\u001b[0m     \u001b[38;5;28;01mif\u001b[39;00m allowUnresolved:\n",
      "File \u001b[0;32m/opt/lsst/software/stack/stack/miniconda3-py38_4.9.2-5.1.0/Linux64/daf_butler/gf8dc3d25d9+8feadece27/python/lsst/daf/butler/registries/sql.py:500\u001b[0m, in \u001b[0;36mSqlRegistry.findDataset\u001b[0;34m(self, datasetType, dataId, collections, timespan, **kwargs)\u001b[0m\n\u001b[1;32m    492\u001b[0m             predicate \u001b[38;5;241m=\u001b[39m predicate\u001b[38;5;241m.\u001b[39mlogical_and(\n\u001b[1;32m    493\u001b[0m                 context\u001b[38;5;241m.\u001b[39mmake_timespan_overlap_predicate(\n\u001b[1;32m    494\u001b[0m                     DatasetColumnTag(parent_dataset_type\u001b[38;5;241m.\u001b[39mname, \u001b[38;5;124m\"\u001b[39m\u001b[38;5;124mtimespan\u001b[39m\u001b[38;5;124m\"\u001b[39m), timespan\n\u001b[1;32m    495\u001b[0m                 )\n\u001b[1;32m    496\u001b[0m             )\n\u001b[1;32m    497\u001b[0m         relation \u001b[38;5;241m=\u001b[39m backend\u001b[38;5;241m.\u001b[39mmake_dataset_query_relation(\n\u001b[1;32m    498\u001b[0m             parent_dataset_type, filtered_collections, requested_columns, context\n\u001b[1;32m    499\u001b[0m         )\u001b[38;5;241m.\u001b[39mwith_rows_satisfying(predicate)\n\u001b[0;32m--> 500\u001b[0m         rows \u001b[38;5;241m=\u001b[39m \u001b[38;5;28;43mlist\u001b[39;49m\u001b[43m(\u001b[49m\u001b[43mcontext\u001b[49m\u001b[38;5;241;43m.\u001b[39;49m\u001b[43mfetch_iterable\u001b[49m\u001b[43m(\u001b[49m\u001b[43mrelation\u001b[49m\u001b[43m)\u001b[49m\u001b[43m)\u001b[49m\n\u001b[1;32m    501\u001b[0m \u001b[38;5;28;01melse\u001b[39;00m:\n\u001b[1;32m    502\u001b[0m     rows \u001b[38;5;241m=\u001b[39m []\n",
      "File \u001b[0;32m/opt/lsst/software/stack/stack/miniconda3-py38_4.9.2-5.1.0/Linux64/daf_butler/gf8dc3d25d9+8feadece27/python/lsst/daf/butler/registry/queries/_sql_query_context.py:459\u001b[0m, in \u001b[0;36m_SqlRowIterable.__iter__\u001b[0;34m(self)\u001b[0m\n\u001b[1;32m    458\u001b[0m \u001b[38;5;28;01mdef\u001b[39;00m \u001b[38;5;21m__iter__\u001b[39m(\u001b[38;5;28mself\u001b[39m) \u001b[38;5;241m-\u001b[39m\u001b[38;5;241m>\u001b[39m Iterator[Mapping[ColumnTag, Any]]:\n\u001b[0;32m--> 459\u001b[0m     \u001b[38;5;28;01mwith\u001b[39;00m \u001b[38;5;28mself\u001b[39m\u001b[38;5;241m.\u001b[39m_context\u001b[38;5;241m.\u001b[39m_db\u001b[38;5;241m.\u001b[39mquery(\u001b[38;5;28mself\u001b[39m\u001b[38;5;241m.\u001b[39m_sql_executable) \u001b[38;5;28;01mas\u001b[39;00m sql_result:\n\u001b[1;32m    460\u001b[0m         raw_rows \u001b[38;5;241m=\u001b[39m sql_result\u001b[38;5;241m.\u001b[39mmappings()\n\u001b[1;32m    461\u001b[0m         \u001b[38;5;28;01mif\u001b[39;00m \u001b[38;5;28mself\u001b[39m\u001b[38;5;241m.\u001b[39m_context\u001b[38;5;241m.\u001b[39m_exit_stack \u001b[38;5;129;01mis\u001b[39;00m \u001b[38;5;28;01mNone\u001b[39;00m:\n",
      "File \u001b[0;32m/opt/lsst/software/stack/conda/miniconda3-py38_4.9.2/envs/lsst-scipipe-5.1.0/lib/python3.10/contextlib.py:135\u001b[0m, in \u001b[0;36m_GeneratorContextManager.__enter__\u001b[0;34m(self)\u001b[0m\n\u001b[1;32m    133\u001b[0m \u001b[38;5;28;01mdel\u001b[39;00m \u001b[38;5;28mself\u001b[39m\u001b[38;5;241m.\u001b[39margs, \u001b[38;5;28mself\u001b[39m\u001b[38;5;241m.\u001b[39mkwds, \u001b[38;5;28mself\u001b[39m\u001b[38;5;241m.\u001b[39mfunc\n\u001b[1;32m    134\u001b[0m \u001b[38;5;28;01mtry\u001b[39;00m:\n\u001b[0;32m--> 135\u001b[0m     \u001b[38;5;28;01mreturn\u001b[39;00m \u001b[38;5;28;43mnext\u001b[39;49m\u001b[43m(\u001b[49m\u001b[38;5;28;43mself\u001b[39;49m\u001b[38;5;241;43m.\u001b[39;49m\u001b[43mgen\u001b[49m\u001b[43m)\u001b[49m\n\u001b[1;32m    136\u001b[0m \u001b[38;5;28;01mexcept\u001b[39;00m \u001b[38;5;167;01mStopIteration\u001b[39;00m:\n\u001b[1;32m    137\u001b[0m     \u001b[38;5;28;01mraise\u001b[39;00m \u001b[38;5;167;01mRuntimeError\u001b[39;00m(\u001b[38;5;124m\"\u001b[39m\u001b[38;5;124mgenerator didn\u001b[39m\u001b[38;5;124m'\u001b[39m\u001b[38;5;124mt yield\u001b[39m\u001b[38;5;124m\"\u001b[39m) \u001b[38;5;28;01mfrom\u001b[39;00m \u001b[38;5;28mNone\u001b[39m\n",
      "File \u001b[0;32m/opt/lsst/software/stack/stack/miniconda3-py38_4.9.2-5.1.0/Linux64/daf_butler/gf8dc3d25d9+8feadece27/python/lsst/daf/butler/registry/interfaces/_database.py:1779\u001b[0m, in \u001b[0;36mDatabase.query\u001b[0;34m(self, sql, *args, **kwargs)\u001b[0m\n\u001b[1;32m   1776\u001b[0m     connection \u001b[38;5;241m=\u001b[39m \u001b[38;5;28mself\u001b[39m\u001b[38;5;241m.\u001b[39m_session_connection\n\u001b[1;32m   1777\u001b[0m \u001b[38;5;66;03m# TODO: SelectBase is not good for execute(), but it used everywhere,\u001b[39;00m\n\u001b[1;32m   1778\u001b[0m \u001b[38;5;66;03m# e.g. in daf_relation. We should switch to Executable at some point.\u001b[39;00m\n\u001b[0;32m-> 1779\u001b[0m result \u001b[38;5;241m=\u001b[39m \u001b[43mconnection\u001b[49m\u001b[38;5;241;43m.\u001b[39;49m\u001b[43mexecute\u001b[49m\u001b[43m(\u001b[49m\u001b[43mcast\u001b[49m\u001b[43m(\u001b[49m\u001b[43msqlalchemy\u001b[49m\u001b[38;5;241;43m.\u001b[39;49m\u001b[43msql\u001b[49m\u001b[38;5;241;43m.\u001b[39;49m\u001b[43mexpression\u001b[49m\u001b[38;5;241;43m.\u001b[39;49m\u001b[43mExecutable\u001b[49m\u001b[43m,\u001b[49m\u001b[43m \u001b[49m\u001b[43msql\u001b[49m\u001b[43m)\u001b[49m\u001b[43m,\u001b[49m\u001b[43m \u001b[49m\u001b[38;5;241;43m*\u001b[39;49m\u001b[43margs\u001b[49m\u001b[43m,\u001b[49m\u001b[43m \u001b[49m\u001b[38;5;241;43m*\u001b[39;49m\u001b[38;5;241;43m*\u001b[39;49m\u001b[43mkwargs\u001b[49m\u001b[43m)\u001b[49m\n\u001b[1;32m   1780\u001b[0m \u001b[38;5;28;01mtry\u001b[39;00m:\n\u001b[1;32m   1781\u001b[0m     \u001b[38;5;28;01myield\u001b[39;00m result\n",
      "File \u001b[0;32m/opt/lsst/software/stack/conda/miniconda3-py38_4.9.2/envs/lsst-scipipe-5.1.0/lib/python3.10/site-packages/sqlalchemy/engine/base.py:1380\u001b[0m, in \u001b[0;36mConnection.execute\u001b[0;34m(self, statement, *multiparams, **params)\u001b[0m\n\u001b[1;32m   1376\u001b[0m     util\u001b[38;5;241m.\u001b[39mraise_(\n\u001b[1;32m   1377\u001b[0m         exc\u001b[38;5;241m.\u001b[39mObjectNotExecutableError(statement), replace_context\u001b[38;5;241m=\u001b[39merr\n\u001b[1;32m   1378\u001b[0m     )\n\u001b[1;32m   1379\u001b[0m \u001b[38;5;28;01melse\u001b[39;00m:\n\u001b[0;32m-> 1380\u001b[0m     \u001b[38;5;28;01mreturn\u001b[39;00m \u001b[43mmeth\u001b[49m\u001b[43m(\u001b[49m\u001b[38;5;28;43mself\u001b[39;49m\u001b[43m,\u001b[49m\u001b[43m \u001b[49m\u001b[43mmultiparams\u001b[49m\u001b[43m,\u001b[49m\u001b[43m \u001b[49m\u001b[43mparams\u001b[49m\u001b[43m,\u001b[49m\u001b[43m \u001b[49m\u001b[43m_EMPTY_EXECUTION_OPTS\u001b[49m\u001b[43m)\u001b[49m\n",
      "File \u001b[0;32m/opt/lsst/software/stack/conda/miniconda3-py38_4.9.2/envs/lsst-scipipe-5.1.0/lib/python3.10/site-packages/sqlalchemy/sql/elements.py:334\u001b[0m, in \u001b[0;36mClauseElement._execute_on_connection\u001b[0;34m(self, connection, multiparams, params, execution_options, _force)\u001b[0m\n\u001b[1;32m    330\u001b[0m \u001b[38;5;28;01mdef\u001b[39;00m \u001b[38;5;21m_execute_on_connection\u001b[39m(\n\u001b[1;32m    331\u001b[0m     \u001b[38;5;28mself\u001b[39m, connection, multiparams, params, execution_options, _force\u001b[38;5;241m=\u001b[39m\u001b[38;5;28;01mFalse\u001b[39;00m\n\u001b[1;32m    332\u001b[0m ):\n\u001b[1;32m    333\u001b[0m     \u001b[38;5;28;01mif\u001b[39;00m _force \u001b[38;5;129;01mor\u001b[39;00m \u001b[38;5;28mself\u001b[39m\u001b[38;5;241m.\u001b[39msupports_execution:\n\u001b[0;32m--> 334\u001b[0m         \u001b[38;5;28;01mreturn\u001b[39;00m \u001b[43mconnection\u001b[49m\u001b[38;5;241;43m.\u001b[39;49m\u001b[43m_execute_clauseelement\u001b[49m\u001b[43m(\u001b[49m\n\u001b[1;32m    335\u001b[0m \u001b[43m            \u001b[49m\u001b[38;5;28;43mself\u001b[39;49m\u001b[43m,\u001b[49m\u001b[43m \u001b[49m\u001b[43mmultiparams\u001b[49m\u001b[43m,\u001b[49m\u001b[43m \u001b[49m\u001b[43mparams\u001b[49m\u001b[43m,\u001b[49m\u001b[43m \u001b[49m\u001b[43mexecution_options\u001b[49m\n\u001b[1;32m    336\u001b[0m \u001b[43m        \u001b[49m\u001b[43m)\u001b[49m\n\u001b[1;32m    337\u001b[0m     \u001b[38;5;28;01melse\u001b[39;00m:\n\u001b[1;32m    338\u001b[0m         \u001b[38;5;28;01mraise\u001b[39;00m exc\u001b[38;5;241m.\u001b[39mObjectNotExecutableError(\u001b[38;5;28mself\u001b[39m)\n",
      "File \u001b[0;32m/opt/lsst/software/stack/conda/miniconda3-py38_4.9.2/envs/lsst-scipipe-5.1.0/lib/python3.10/site-packages/sqlalchemy/engine/base.py:1572\u001b[0m, in \u001b[0;36mConnection._execute_clauseelement\u001b[0;34m(self, elem, multiparams, params, execution_options)\u001b[0m\n\u001b[1;32m   1560\u001b[0m compiled_cache \u001b[38;5;241m=\u001b[39m execution_options\u001b[38;5;241m.\u001b[39mget(\n\u001b[1;32m   1561\u001b[0m     \u001b[38;5;124m\"\u001b[39m\u001b[38;5;124mcompiled_cache\u001b[39m\u001b[38;5;124m\"\u001b[39m, \u001b[38;5;28mself\u001b[39m\u001b[38;5;241m.\u001b[39mengine\u001b[38;5;241m.\u001b[39m_compiled_cache\n\u001b[1;32m   1562\u001b[0m )\n\u001b[1;32m   1564\u001b[0m compiled_sql, extracted_params, cache_hit \u001b[38;5;241m=\u001b[39m elem\u001b[38;5;241m.\u001b[39m_compile_w_cache(\n\u001b[1;32m   1565\u001b[0m     dialect\u001b[38;5;241m=\u001b[39mdialect,\n\u001b[1;32m   1566\u001b[0m     compiled_cache\u001b[38;5;241m=\u001b[39mcompiled_cache,\n\u001b[0;32m   (...)\u001b[0m\n\u001b[1;32m   1570\u001b[0m     linting\u001b[38;5;241m=\u001b[39m\u001b[38;5;28mself\u001b[39m\u001b[38;5;241m.\u001b[39mdialect\u001b[38;5;241m.\u001b[39mcompiler_linting \u001b[38;5;241m|\u001b[39m compiler\u001b[38;5;241m.\u001b[39mWARN_LINTING,\n\u001b[1;32m   1571\u001b[0m )\n\u001b[0;32m-> 1572\u001b[0m ret \u001b[38;5;241m=\u001b[39m \u001b[38;5;28;43mself\u001b[39;49m\u001b[38;5;241;43m.\u001b[39;49m\u001b[43m_execute_context\u001b[49m\u001b[43m(\u001b[49m\n\u001b[1;32m   1573\u001b[0m \u001b[43m    \u001b[49m\u001b[43mdialect\u001b[49m\u001b[43m,\u001b[49m\n\u001b[1;32m   1574\u001b[0m \u001b[43m    \u001b[49m\u001b[43mdialect\u001b[49m\u001b[38;5;241;43m.\u001b[39;49m\u001b[43mexecution_ctx_cls\u001b[49m\u001b[38;5;241;43m.\u001b[39;49m\u001b[43m_init_compiled\u001b[49m\u001b[43m,\u001b[49m\n\u001b[1;32m   1575\u001b[0m \u001b[43m    \u001b[49m\u001b[43mcompiled_sql\u001b[49m\u001b[43m,\u001b[49m\n\u001b[1;32m   1576\u001b[0m \u001b[43m    \u001b[49m\u001b[43mdistilled_params\u001b[49m\u001b[43m,\u001b[49m\n\u001b[1;32m   1577\u001b[0m \u001b[43m    \u001b[49m\u001b[43mexecution_options\u001b[49m\u001b[43m,\u001b[49m\n\u001b[1;32m   1578\u001b[0m \u001b[43m    \u001b[49m\u001b[43mcompiled_sql\u001b[49m\u001b[43m,\u001b[49m\n\u001b[1;32m   1579\u001b[0m \u001b[43m    \u001b[49m\u001b[43mdistilled_params\u001b[49m\u001b[43m,\u001b[49m\n\u001b[1;32m   1580\u001b[0m \u001b[43m    \u001b[49m\u001b[43melem\u001b[49m\u001b[43m,\u001b[49m\n\u001b[1;32m   1581\u001b[0m \u001b[43m    \u001b[49m\u001b[43mextracted_params\u001b[49m\u001b[43m,\u001b[49m\n\u001b[1;32m   1582\u001b[0m \u001b[43m    \u001b[49m\u001b[43mcache_hit\u001b[49m\u001b[38;5;241;43m=\u001b[39;49m\u001b[43mcache_hit\u001b[49m\u001b[43m,\u001b[49m\n\u001b[1;32m   1583\u001b[0m \u001b[43m\u001b[49m\u001b[43m)\u001b[49m\n\u001b[1;32m   1584\u001b[0m \u001b[38;5;28;01mif\u001b[39;00m has_events:\n\u001b[1;32m   1585\u001b[0m     \u001b[38;5;28mself\u001b[39m\u001b[38;5;241m.\u001b[39mdispatch\u001b[38;5;241m.\u001b[39mafter_execute(\n\u001b[1;32m   1586\u001b[0m         \u001b[38;5;28mself\u001b[39m,\n\u001b[1;32m   1587\u001b[0m         elem,\n\u001b[0;32m   (...)\u001b[0m\n\u001b[1;32m   1591\u001b[0m         ret,\n\u001b[1;32m   1592\u001b[0m     )\n",
      "File \u001b[0;32m/opt/lsst/software/stack/conda/miniconda3-py38_4.9.2/envs/lsst-scipipe-5.1.0/lib/python3.10/site-packages/sqlalchemy/engine/base.py:1943\u001b[0m, in \u001b[0;36mConnection._execute_context\u001b[0;34m(self, dialect, constructor, statement, parameters, execution_options, *args, **kw)\u001b[0m\n\u001b[1;32m   1940\u001b[0m             branched\u001b[38;5;241m.\u001b[39mclose()\n\u001b[1;32m   1942\u001b[0m \u001b[38;5;28;01mexcept\u001b[39;00m \u001b[38;5;167;01mBaseException\u001b[39;00m \u001b[38;5;28;01mas\u001b[39;00m e:\n\u001b[0;32m-> 1943\u001b[0m     \u001b[38;5;28;43mself\u001b[39;49m\u001b[38;5;241;43m.\u001b[39;49m\u001b[43m_handle_dbapi_exception\u001b[49m\u001b[43m(\u001b[49m\n\u001b[1;32m   1944\u001b[0m \u001b[43m        \u001b[49m\u001b[43me\u001b[49m\u001b[43m,\u001b[49m\u001b[43m \u001b[49m\u001b[43mstatement\u001b[49m\u001b[43m,\u001b[49m\u001b[43m \u001b[49m\u001b[43mparameters\u001b[49m\u001b[43m,\u001b[49m\u001b[43m \u001b[49m\u001b[43mcursor\u001b[49m\u001b[43m,\u001b[49m\u001b[43m \u001b[49m\u001b[43mcontext\u001b[49m\n\u001b[1;32m   1945\u001b[0m \u001b[43m    \u001b[49m\u001b[43m)\u001b[49m\n\u001b[1;32m   1947\u001b[0m \u001b[38;5;28;01mreturn\u001b[39;00m result\n",
      "File \u001b[0;32m/opt/lsst/software/stack/conda/miniconda3-py38_4.9.2/envs/lsst-scipipe-5.1.0/lib/python3.10/site-packages/sqlalchemy/engine/base.py:2128\u001b[0m, in \u001b[0;36mConnection._handle_dbapi_exception\u001b[0;34m(self, e, statement, parameters, cursor, context)\u001b[0m\n\u001b[1;32m   2124\u001b[0m         util\u001b[38;5;241m.\u001b[39mraise_(\n\u001b[1;32m   2125\u001b[0m             sqlalchemy_exception, with_traceback\u001b[38;5;241m=\u001b[39mexc_info[\u001b[38;5;241m2\u001b[39m], from_\u001b[38;5;241m=\u001b[39me\n\u001b[1;32m   2126\u001b[0m         )\n\u001b[1;32m   2127\u001b[0m     \u001b[38;5;28;01melse\u001b[39;00m:\n\u001b[0;32m-> 2128\u001b[0m         \u001b[43mutil\u001b[49m\u001b[38;5;241;43m.\u001b[39;49m\u001b[43mraise_\u001b[49m\u001b[43m(\u001b[49m\u001b[43mexc_info\u001b[49m\u001b[43m[\u001b[49m\u001b[38;5;241;43m1\u001b[39;49m\u001b[43m]\u001b[49m\u001b[43m,\u001b[49m\u001b[43m \u001b[49m\u001b[43mwith_traceback\u001b[49m\u001b[38;5;241;43m=\u001b[39;49m\u001b[43mexc_info\u001b[49m\u001b[43m[\u001b[49m\u001b[38;5;241;43m2\u001b[39;49m\u001b[43m]\u001b[49m\u001b[43m)\u001b[49m\n\u001b[1;32m   2130\u001b[0m \u001b[38;5;28;01mfinally\u001b[39;00m:\n\u001b[1;32m   2131\u001b[0m     \u001b[38;5;28;01mdel\u001b[39;00m \u001b[38;5;28mself\u001b[39m\u001b[38;5;241m.\u001b[39m_reentrant_error\n",
      "File \u001b[0;32m/opt/lsst/software/stack/conda/miniconda3-py38_4.9.2/envs/lsst-scipipe-5.1.0/lib/python3.10/site-packages/sqlalchemy/util/compat.py:211\u001b[0m, in \u001b[0;36mraise_\u001b[0;34m(***failed resolving arguments***)\u001b[0m\n\u001b[1;32m    208\u001b[0m     exception\u001b[38;5;241m.\u001b[39m__cause__ \u001b[38;5;241m=\u001b[39m replace_context\n\u001b[1;32m    210\u001b[0m \u001b[38;5;28;01mtry\u001b[39;00m:\n\u001b[0;32m--> 211\u001b[0m     \u001b[38;5;28;01mraise\u001b[39;00m exception\n\u001b[1;32m    212\u001b[0m \u001b[38;5;28;01mfinally\u001b[39;00m:\n\u001b[1;32m    213\u001b[0m     \u001b[38;5;66;03m# credit to\u001b[39;00m\n\u001b[1;32m    214\u001b[0m     \u001b[38;5;66;03m# https://cosmicpercolator.com/2016/01/13/exception-leaks-in-python-2-and-3/\u001b[39;00m\n\u001b[1;32m    215\u001b[0m     \u001b[38;5;66;03m# as the __traceback__ object creates a cycle\u001b[39;00m\n\u001b[1;32m    216\u001b[0m     \u001b[38;5;28;01mdel\u001b[39;00m exception, replace_context, from_, with_traceback\n",
      "File \u001b[0;32m/opt/lsst/software/stack/conda/miniconda3-py38_4.9.2/envs/lsst-scipipe-5.1.0/lib/python3.10/site-packages/sqlalchemy/engine/base.py:1900\u001b[0m, in \u001b[0;36mConnection._execute_context\u001b[0;34m(self, dialect, constructor, statement, parameters, execution_options, *args, **kw)\u001b[0m\n\u001b[1;32m   1898\u001b[0m                 \u001b[38;5;28;01mbreak\u001b[39;00m\n\u001b[1;32m   1899\u001b[0m     \u001b[38;5;28;01mif\u001b[39;00m \u001b[38;5;129;01mnot\u001b[39;00m evt_handled:\n\u001b[0;32m-> 1900\u001b[0m         \u001b[38;5;28;43mself\u001b[39;49m\u001b[38;5;241;43m.\u001b[39;49m\u001b[43mdialect\u001b[49m\u001b[38;5;241;43m.\u001b[39;49m\u001b[43mdo_execute\u001b[49m\u001b[43m(\u001b[49m\n\u001b[1;32m   1901\u001b[0m \u001b[43m            \u001b[49m\u001b[43mcursor\u001b[49m\u001b[43m,\u001b[49m\u001b[43m \u001b[49m\u001b[43mstatement\u001b[49m\u001b[43m,\u001b[49m\u001b[43m \u001b[49m\u001b[43mparameters\u001b[49m\u001b[43m,\u001b[49m\u001b[43m \u001b[49m\u001b[43mcontext\u001b[49m\n\u001b[1;32m   1902\u001b[0m \u001b[43m        \u001b[49m\u001b[43m)\u001b[49m\n\u001b[1;32m   1904\u001b[0m \u001b[38;5;28;01mif\u001b[39;00m \u001b[38;5;28mself\u001b[39m\u001b[38;5;241m.\u001b[39m_has_events \u001b[38;5;129;01mor\u001b[39;00m \u001b[38;5;28mself\u001b[39m\u001b[38;5;241m.\u001b[39mengine\u001b[38;5;241m.\u001b[39m_has_events:\n\u001b[1;32m   1905\u001b[0m     \u001b[38;5;28mself\u001b[39m\u001b[38;5;241m.\u001b[39mdispatch\u001b[38;5;241m.\u001b[39mafter_cursor_execute(\n\u001b[1;32m   1906\u001b[0m         \u001b[38;5;28mself\u001b[39m,\n\u001b[1;32m   1907\u001b[0m         cursor,\n\u001b[0;32m   (...)\u001b[0m\n\u001b[1;32m   1911\u001b[0m         context\u001b[38;5;241m.\u001b[39mexecutemany,\n\u001b[1;32m   1912\u001b[0m     )\n",
      "File \u001b[0;32m/opt/lsst/software/stack/conda/miniconda3-py38_4.9.2/envs/lsst-scipipe-5.1.0/lib/python3.10/site-packages/sqlalchemy/engine/default.py:736\u001b[0m, in \u001b[0;36mDefaultDialect.do_execute\u001b[0;34m(self, cursor, statement, parameters, context)\u001b[0m\n\u001b[1;32m    735\u001b[0m \u001b[38;5;28;01mdef\u001b[39;00m \u001b[38;5;21mdo_execute\u001b[39m(\u001b[38;5;28mself\u001b[39m, cursor, statement, parameters, context\u001b[38;5;241m=\u001b[39m\u001b[38;5;28;01mNone\u001b[39;00m):\n\u001b[0;32m--> 736\u001b[0m     \u001b[43mcursor\u001b[49m\u001b[38;5;241;43m.\u001b[39;49m\u001b[43mexecute\u001b[49m\u001b[43m(\u001b[49m\u001b[43mstatement\u001b[49m\u001b[43m,\u001b[49m\u001b[43m \u001b[49m\u001b[43mparameters\u001b[49m\u001b[43m)\u001b[49m\n",
      "File \u001b[0;32m/opt/lsst/software/stack/conda/miniconda3-py38_4.9.2/envs/lsst-scipipe-5.1.0/lib/python3.10/encodings/utf_8.py:15\u001b[0m, in \u001b[0;36mdecode\u001b[0;34m(input, errors)\u001b[0m\n\u001b[1;32m     11\u001b[0m \u001b[38;5;66;03m### Codec APIs\u001b[39;00m\n\u001b[1;32m     13\u001b[0m encode \u001b[38;5;241m=\u001b[39m codecs\u001b[38;5;241m.\u001b[39mutf_8_encode\n\u001b[0;32m---> 15\u001b[0m \u001b[38;5;28;01mdef\u001b[39;00m \u001b[38;5;21mdecode\u001b[39m(\u001b[38;5;28minput\u001b[39m, errors\u001b[38;5;241m=\u001b[39m\u001b[38;5;124m'\u001b[39m\u001b[38;5;124mstrict\u001b[39m\u001b[38;5;124m'\u001b[39m):\n\u001b[1;32m     16\u001b[0m     \u001b[38;5;28;01mreturn\u001b[39;00m codecs\u001b[38;5;241m.\u001b[39mutf_8_decode(\u001b[38;5;28minput\u001b[39m, errors, \u001b[38;5;28;01mTrue\u001b[39;00m)\n\u001b[1;32m     18\u001b[0m \u001b[38;5;28;01mclass\u001b[39;00m \u001b[38;5;21;01mIncrementalEncoder\u001b[39;00m(codecs\u001b[38;5;241m.\u001b[39mIncrementalEncoder):\n",
      "\u001b[0;31mKeyboardInterrupt\u001b[0m: "
     ]
    }
   ],
   "source": [
    "# Get visits contributing to this cutout\n",
    "visitIds = []\n",
    "for ccd in tqdm(coadd.getInfo().getCoaddInputs().ccds):\n",
    "    dataId = {\n",
    "        'visit':ccd['visit'], \n",
    "        'detector':ccd['ccd'], \n",
    "        'band':ccd['filter'],\n",
    "        'tract':tractInfo.getId()\n",
    "    }\n",
    "    calexp = butler.get('calexp', dataId=dataId)   # Note 99% of cell execution time is this line and the next\n",
    "    wcs= calexp.getWcs()\n",
    "    bbox= calexp.getBBox()\n",
    "    poly = makeSkyPolygonFromBBox(bbox, wcs)\n",
    "    if poly.contains(point.getVector()):\n",
    "        visitIds.append(dataId)\n",
    "\n"
   ]
  },
  {
   "cell_type": "code",
   "execution_count": null,
   "id": "f0b57bac-5af7-47d1-9e9b-99050b1aab8e",
   "metadata": {},
   "outputs": [],
   "source": [
    "plt.close('all')\n",
    "\n",
    "# Get image cutouts\n",
    "n_max_cutout = 4\n",
    " \n",
    "file=  open('lensed_source','rb')\n",
    "lensed_source = pickle.load(file, encoding='bytes')\n",
    "gsobj = galsim.InterpolatedImage(galsim.Image(lensed_source), scale = 0.1, flux = 100000)\n",
    "\n",
    "for dataId in visitIds[:n_max_cutout]:\n",
    "    calexp = butler.get('calexp', dataId=dataId)   # Note 99% of cell execution time is this line and the next\n",
    "    wcs= calexp.getWcs()\n",
    "    bbox= calexp.getBBox()\n",
    "    xy = geom.PointI(wcs.skyToPixel(point))\n",
    "    cutout = geom.BoxI(xy - cutoutSize//2, cutoutSize)\n",
    "    bbox.clip(cutout)\n",
    "    image = butler.get(\"calexp_sub\", bbox=bbox, immediate=True, dataId=dataId)\n",
    "\n",
    "    mat = np.eye(3)\n",
    "    mat[:2,:2] = wcs.getCdMatrix()\n",
    "    transform = Affine2D(mat)\n",
    "    \n",
    "    #Image to inject\n",
    "    point = SpherePoint(ra, dec, geom.degrees)\n",
    "    \n",
    "    fig = plt.figure()\n",
    "    arr = np.copy(image.maskedImage.image.array)\n",
    "    plot_extents = 0, bbox.width, 0, bbox.height\n",
    "    helper = floating_axes.GridHelperCurveLinear(\n",
    "        transform, plot_extents, \n",
    "        tick_formatter1=DictFormatter({}),\n",
    "        tick_formatter2=DictFormatter({}),\n",
    "        grid_locator1=MaxNLocator(nbins=1),\n",
    "        grid_locator2=MaxNLocator(nbins=1),\n",
    "    )\n",
    "    ax = floating_axes.FloatingSubplot(fig, 111, grid_helper=helper)\n",
    "    ax.imshow(arr, vmin=0, vmax=300, transform=transform+ax.transData, cmap = 'gist_stern')\n",
    "    ax.set_title(repr(dataId))\n",
    "    ax.scatter(\n",
    "        xy.x - bbox.minX, \n",
    "        xy.y - bbox.minY, \n",
    "        c='r', marker='+', transform=transform+ax.transData\n",
    "    )\n",
    "    fig.add_subplot(ax)\n",
    "    fig.show()\n",
    "    \n",
    "    print(\"Injected images\")\n",
    "    _add_fake_sources(image, [(point, gsobj)])\n",
    "    \n",
    "    fig2 = plt.figure()\n",
    "    inj_arr = image.maskedImage.image.array\n",
    "    plot_extents = 0, bbox.width, 0, bbox.height\n",
    "    helper = floating_axes.GridHelperCurveLinear(\n",
    "        transform, plot_extents, \n",
    "        tick_formatter1=DictFormatter({}),\n",
    "        tick_formatter2=DictFormatter({}),\n",
    "        grid_locator1=MaxNLocator(nbins=1),\n",
    "        grid_locator2=MaxNLocator(nbins=1),\n",
    "    )\n",
    "    ax = floating_axes.FloatingSubplot(fig2, 111, grid_helper=helper)\n",
    "    ax.imshow(inj_arr, vmin=0, vmax=300, transform=transform+ax.transData, cmap = 'gist_stern')\n",
    "    ax.set_title(repr(dataId))\n",
    "    ax.scatter(\n",
    "        xy.x - bbox.minX, \n",
    "        xy.y - bbox.minY, \n",
    "        c='r', marker='+', transform=transform+ax.transData\n",
    "    )\n",
    "    fig2.add_subplot(ax)\n",
    "    fig2.show()\n",
    "    \n",
    "    fig3 = plt.figure()\n",
    "    ax = floating_axes.FloatingSubplot(fig3, 111, grid_helper=helper)\n",
    "    ax.imshow(inj_arr-arr, vmin=0, transform=transform+ax.transData, cmap = 'gist_stern')\n",
    "    ax.set_title(repr(dataId))\n",
    "    ax.scatter(\n",
    "        xy.x - bbox.minX, \n",
    "        xy.y - bbox.minY, \n",
    "        c='r', marker='+', transform=transform+ax.transData\n",
    "    )\n",
    "    fig3.add_subplot(ax)\n",
    "    fig3.show()"
   ]
  },
  {
   "cell_type": "code",
   "execution_count": null,
   "id": "d2a68800-cd51-4165-af57-c8234c6b5492",
   "metadata": {},
   "outputs": [],
   "source": []
  },
  {
   "cell_type": "code",
   "execution_count": null,
   "id": "d3d97ae7-868a-45fb-9c9e-1701eaaf9fe8",
   "metadata": {},
   "outputs": [],
   "source": []
  }
 ],
 "metadata": {
  "kernelspec": {
   "display_name": "LSST",
   "language": "python",
   "name": "lsst"
  },
  "language_info": {
   "codemirror_mode": {
    "name": "ipython",
    "version": 3
   },
   "file_extension": ".py",
   "mimetype": "text/x-python",
   "name": "python",
   "nbconvert_exporter": "python",
   "pygments_lexer": "ipython3",
   "version": "3.10.9"
  }
 },
 "nbformat": 4,
 "nbformat_minor": 5
}
