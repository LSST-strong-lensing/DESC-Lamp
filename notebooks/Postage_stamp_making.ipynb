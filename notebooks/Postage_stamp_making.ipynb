{
 "cells": [
  {
   "cell_type": "markdown",
   "metadata": {},
   "source": [
    "# DESC Lamp demo \n",
    "## Catalog extraction\n",
    "This notebook shows how to pull postage stamps to use for strong gravitaional lens searches."
   ]
  },
  {
   "cell_type": "markdown",
   "metadata": {},
   "source": [
    "# DC2: Generate Postage Stamps (Cutouts) for objects in the Object Catalog\n",
    "\n",
    "Owner: **Rémy Joseph** ([@herjy](https://github.com/herjy/DESC-Lamp))\n",
    "<br>Last Verified to Run: **2021-11-22** (by @herjy)\n",
    "\n",
    "This notebook is partly based on the `dm_butler_postage_stamps_for_object_catalogs` notebook by Yao-Yuan Mao and the previous notebooks `dm_butler_postage_stamps` notebook by Michael Wood-Vasey and the Stack Club `ButlerTutorial` by Daniel Perrefort.\n",
    "\n",
    "Light curve extraction follows the `dia_sn_vs_truth` notebook by Michael Wood-Vasey.\n",
    "\n",
    "Here we simply copy what was in Yao-Yuan's notebook and trim it to the usecase of selecting galaxies from cosmoDC2 catalogs with magnitude cuts. The notebook will in fine evolve to incorporate the functions we design to streamline this preselection process.\n",
    "\n",
    "### Logistics\n",
    "This is intended to be runnable at NERSC through the https://jupyter.nersc.gov interface from a local git clone of https://github.com/herjy/DESC-Lamp in your NERSC directory.  But you can also run it wherever, with appropriate adjustment of the 'repo' location to point to a place where you have a Butler repo will all of the images. \n",
    "\n",
    "This notebook uses the `desc-stack-weekly-latest` kernel. Instructions for setting up the proper DESC python kernel can be found here: https://confluence.slac.stanford.edu/x/o5DVE"
   ]
  },
  {
   "cell_type": "markdown",
   "metadata": {},
   "source": [
    "## Set up\n",
    "\n",
    "First we will load the needed modules and DC2 DR6 data sets: object catalogs (with `GCRCatalogs`) and DRP products (with `desc_dc2_dm_data`)."
   ]
  },
  {
   "cell_type": "code",
   "execution_count": 10,
   "metadata": {},
   "outputs": [
    {
     "ename": "ModuleNotFoundError",
     "evalue": "No module named 'desclamp'",
     "output_type": "error",
     "traceback": [
      "\u001b[0;31m---------------------------------------------------------------------------\u001b[0m",
      "\u001b[0;31mModuleNotFoundError\u001b[0m                       Traceback (most recent call last)",
      "\u001b[0;32m<ipython-input-10-c533e3c682c8>\u001b[0m in \u001b[0;36m<module>\u001b[0;34m\u001b[0m\n\u001b[0;32m----> 1\u001b[0;31m \u001b[0;32mimport\u001b[0m \u001b[0mdesclamp\u001b[0m\u001b[0;34m\u001b[0m\u001b[0;34m\u001b[0m\u001b[0m\n\u001b[0m\u001b[1;32m      2\u001b[0m \u001b[0;31m# A few common packages\u001b[0m\u001b[0;34m\u001b[0m\u001b[0;34m\u001b[0m\u001b[0;34m\u001b[0m\u001b[0m\n\u001b[1;32m      3\u001b[0m \u001b[0;32mimport\u001b[0m \u001b[0mnumpy\u001b[0m \u001b[0;32mas\u001b[0m \u001b[0mnp\u001b[0m\u001b[0;34m\u001b[0m\u001b[0;34m\u001b[0m\u001b[0m\n\u001b[1;32m      4\u001b[0m \u001b[0;32mimport\u001b[0m \u001b[0mmatplotlib\u001b[0m\u001b[0;34m.\u001b[0m\u001b[0mpyplot\u001b[0m \u001b[0;32mas\u001b[0m \u001b[0mplt\u001b[0m\u001b[0;34m\u001b[0m\u001b[0;34m\u001b[0m\u001b[0m\n\u001b[1;32m      5\u001b[0m \u001b[0;32mimport\u001b[0m \u001b[0mpandas\u001b[0m \u001b[0;32mas\u001b[0m \u001b[0mpd\u001b[0m\u001b[0;34m\u001b[0m\u001b[0;34m\u001b[0m\u001b[0m\n",
      "\u001b[0;31mModuleNotFoundError\u001b[0m: No module named 'desclamp'"
     ]
    }
   ],
   "source": [
    "import desclamp\n",
    "# A few common packages\n",
    "import numpy as np\n",
    "import matplotlib.pyplot as plt\n",
    "import pandas as pd\n",
    "%matplotlib inline\n",
    "\n",
    "# We will use astropy's WCS and ZScaleInterval for plotting\n",
    "from astropy.wcs import WCS\n",
    "from astropy.visualization import ZScaleInterval\n",
    "# Also to convert sky coordinates\n",
    "from astropy.coordinates import SkyCoord\n",
    "import astropy.units as u\n",
    "\n",
    "# We will use several stack functions\n",
    "import lsst.geom\n",
    "import lsst.afw.display as afwDisplay\n",
    "import lsst.afw.display.rgb as rgb\n",
    "\n",
    "# And also DESC packages to get the data path\n",
    "import GCRCatalogs\n",
    "from GCRCatalogs import GCRQuery\n",
    "import desc_dc2_dm_data"
   ]
  },
  {
   "cell_type": "markdown",
   "metadata": {},
   "source": [
    "We will be using the DC2 Run 2.2i DR6 v2 data. The catalogs and there validation are described here: https://arxiv.org/pdf/2110.03769.pdf\n"
   ]
  },
  {
   "cell_type": "code",
   "execution_count": 3,
   "metadata": {},
   "outputs": [],
   "source": [
    "dc2_data_version = \"2.2i_dr6\"\n",
    "GCRCatalogs.get_available_catalogs(names_only=True, name_contains=dc2_data_version)\n",
    "cat = GCRCatalogs.load_catalog(\"dc2_object_run\"+dc2_data_version)\n",
    "diaSrc = GCRCatalogs.load_catalog('dc2_dia_source_run1.2p_test')\n",
    "diaObject = GCRCatalogs.load_catalog('dc2_dia_object_run1.2p_test')\n",
    "truth_lc = GCRCatalogs.load_catalog('dc2_truth_run2.2i_sn_truth_summary')\n"
   ]
  },
  {
   "cell_type": "markdown",
   "metadata": {},
   "source": [
    "All the catalog names (including old catalogs) can be found by uncommenting the line below.\n",
    "Information obout these catalogs can be found in the [DC2 data product overview](https://confluence.slac.stanford.edu/display/LSSTDESC/DC2+Data+Product+Overview). The Rubin project's [Data product definition document](https://docushare.lsstcorp.org/docushare/dsweb/Get/LSE-163/LSE-163_DataProductsDefinitionDocumentDPDD.pdf)(DPDD) provides further insight into the content of these catalogs. \n",
    "\n",
    "These are [GCR catalogs](https://github.com/LSSTDESC/gcr-catalogs) that may use slightly different definitions and namings than the one used in Rubin's DPDD. The details for the entries of these catalogs can be found in the [GCR Catalogs SChema description](https://github.com/LSSTDESC/gcr-catalogs/blob/master/GCRCatalogs/SCHEMA.md#schema-for-dc2-object-catalogs)"
   ]
  },
  {
   "cell_type": "code",
   "execution_count": 4,
   "metadata": {},
   "outputs": [],
   "source": [
    "#print('\\n'.join(sorted(GCRCatalogs.get_available_catalogs(include_default_only=False))))"
   ]
  },
  {
   "cell_type": "markdown",
   "metadata": {},
   "source": [
    "Summoning Alfred:"
   ]
  },
  {
   "cell_type": "code",
   "execution_count": 5,
   "metadata": {},
   "outputs": [],
   "source": [
    "butler = desc_dc2_dm_data.get_butler(dc2_data_version)"
   ]
  },
  {
   "cell_type": "markdown",
   "metadata": {},
   "source": [
    "## Select a sample of galaxies based on selection criteria\n",
    "\n",
    "Here we will use arbitrary (actually from [Rojas et al. 2021](https://arxiv.org/pdf/2109.00014.pdf)) selection criteria to extract a few moock patches.\n",
    "\n",
    "To learn what columns are in the object catalogs, refer to [this schema table](https://github.com/LSSTDESC/gcr-catalogs/blob/master/GCRCatalogs/SCHEMA.md#schema-for-dc2-object-catalogs). And sometimes it'd be helpful to look at the [source code](https://github.com/LSSTDESC/gcr-catalogs/blob/master/GCRCatalogs/dc2_object.py#L341)."
   ]
  },
  {
   "cell_type": "code",
   "execution_count": 6,
   "metadata": {},
   "outputs": [
    {
     "name": "stderr",
     "output_type": "stream",
     "text": [
      "/opt/lsst/software/stack/python/miniconda3-4.7.10/envs/lsst-scipipe-4d7b902/lib/python3.7/site-packages/GCRCatalogs/dc2_dm_catalog.py:43: RuntimeWarning: divide by zero encountered in log10\n",
      "  return -2.5 * np.log10(flux) + AB_mag_zp_wrt_nanoJansky\n",
      "/opt/lsst/software/stack/python/miniconda3-4.7.10/envs/lsst-scipipe-4d7b902/lib/python3.7/site-packages/GCRCatalogs/dc2_dm_catalog.py:43: RuntimeWarning: invalid value encountered in log10\n",
      "  return -2.5 * np.log10(flux) + AB_mag_zp_wrt_nanoJansky\n"
     ]
    }
   ],
   "source": [
    "bright_galaxy_query = GCRQuery(\n",
    "    \"clean\",\n",
    "    \"extendedness == 1\",\n",
    "    \"mag_g_cModel- mag_i_cModel < 5\",\n",
    "    \"mag_g_cModel- mag_i_cModel > 1.8\",\n",
    "    \"mag_g_cModel- mag_r_cModel < 3\",\n",
    "    \"mag_g_cModel- mag_r_cModel > 0.6\",\n",
    "    \"mag_r_cModel < 22.5\",\n",
    "    \"mag_r_cModel > 18\",\n",
    "    \"mag_g_cModel > 20\",\n",
    "    \"mag_i_cModel > 18.2\",\n",
    "    \"snr_g_cModel > 10\",\n",
    "    \"snr_r_cModel > 10\",\n",
    "    \"snr_i_cModel > 10\",\n",
    ")\n",
    "\n",
    "columns_to_get = [\"objectId\", \"ra\", \"dec\", \"tract\", \"patch\"]\n",
    "assert cat.has_quantities(columns_to_get)\n",
    "# Here we use native_filters to limit to tract == 4639 to save some load time\n",
    "#4430, 4431, 4432, 4638, 4639, 4640\n",
    "\n",
    "tracts = [4639]\n",
    "filters = f\"(tract == {tracts[0]})\"\n",
    "for t in tracts[1:]:\n",
    "    filters +=  f\" | (tract == {t})\"\n",
    "\n",
    "objects = cat.get_quantities(columns_to_get, filters=bright_galaxy_query, native_filters=filters)\n"
   ]
  },
  {
   "cell_type": "code",
   "execution_count": 7,
   "metadata": {},
   "outputs": [
    {
     "name": "stdout",
     "output_type": "stream",
     "text": [
      "9617\n"
     ]
    }
   ],
   "source": [
    "print(len(objects['tract']))"
   ]
  },
  {
   "cell_type": "code",
   "execution_count": 8,
   "metadata": {},
   "outputs": [],
   "source": [
    "# make it a pandas data frame for the ease of manipulation\n",
    "objects = pd.DataFrame(objects)"
   ]
  },
  {
   "cell_type": "markdown",
   "metadata": {},
   "source": [
    "## Extrtacting postage stamps\n",
    "\n",
    "Now we need to extract postage stamps of the coadded images. For that we need for each object there coordinates, but also there tact and patch number."
   ]
  },
  {
   "cell_type": "code",
   "execution_count": null,
   "metadata": {},
   "outputs": [],
   "source": [
    "skymap = butler.get('deepCoadd_skyMap')"
   ]
  },
  {
   "cell_type": "markdown",
   "metadata": {},
   "source": [
    "Now we build a function that will get tratc and patch inforrmation for a given (Ra, Dec) position:"
   ]
  },
  {
   "cell_type": "code",
   "execution_count": null,
   "metadata": {},
   "outputs": [],
   "source": [
    "fig = plt.figure(figsize=(36, 36), dpi=100)\n",
    "gs = plt.GridSpec(6, 6, fig)\n",
    "\n",
    "#Limiting to 16 objects\n",
    "n0 = 72\n",
    "objects_sel = objects.loc[:16]\n",
    "\n",
    "cutout_size = 100\n",
    "cutout_extent = lsst.geom.ExtentI(cutout_size, cutout_size)\n",
    "id=0\n",
    "for (_, object_this), gs_this in zip(objects_sel.iterrows(), gs):\n",
    "    radec = lsst.geom.SpherePoint(object_this[\"ra\"], object_this[\"dec\"], lsst.geom.degrees)\n",
    "    center = skymap.findTract(radec).getWcs().skyToPixel(radec)\n",
    "    bbox = lsst.geom.BoxI(lsst.geom.Point2I((center.x - cutout_size*0.5, center.y - cutout_size*0.5)), cutout_extent)\n",
    "\n",
    "    cutouts = [butler.get(\"deepCoadd_sub\", bbox=bbox, tract=object_this[\"tract\"], patch=object_this[\"patch\"], filter=band) for band in \"irg\"]\n",
    "    wcs_fits_meta = cutouts[0].getWcs().getFitsMetadata()\n",
    "    image_rgb = rgb.makeRGB(*cutouts)\n",
    "    del cutouts  # let gc save some memory for us\n",
    "\n",
    "    ax = plt.subplot(gs_this, projection=WCS(wcs_fits_meta), label=str(object_this[\"objectId\"]))\n",
    "    ax.imshow(image_rgb, origin='lower')\n",
    "    del image_rgb  # let gc save some memory for us\n",
    "    \n",
    "    for c in ax.coords:\n",
    "        c.set_ticklabel(exclude_overlapping=True, size=10)\n",
    "        c.set_axislabel('', size=0)\n"
   ]
  },
  {
   "cell_type": "markdown",
   "metadata": {},
   "source": [
    "## Extracting light curves\n",
    "\n",
    "To search for lensed transients, it is useful to have access to light curves. These are extracted from Difference Imaging Analysis (DIA). We used the scripts provided in the `dia_sn_vs_truth` notebook by Michael Wood-Vasey to produce the following light curves."
   ]
  },
  {
   "cell_type": "markdown",
   "metadata": {},
   "source": [
    "First, we need to match the position of objects to sources in the DIA catalogs:"
   ]
  },
  {
   "cell_type": "code",
   "execution_count": null,
   "metadata": {},
   "outputs": [],
   "source": [
    "# Match on RA, Dec\n",
    "\n",
    "for i in range(len(objects_sel)):\n",
    "    sn_position = SkyCoord(objects.loc[i][\"ra\"], objects.loc[i][\"dec\"], unit='deg')\n",
    "\n",
    "    diaObjects_cat = diaObject.get_quantities(['ra', 'dec', 'diaObjectId'])\n",
    "    diaObject_positions = SkyCoord(diaObjects_cat['ra'], diaObjects_cat['dec'], unit='deg')\n",
    "\n",
    "    idx, sep2d, _ = sn_position.match_to_catalog_sky(diaObject_positions)\n",
    "    \n",
    "    print(f'Index: {idx} is {sep2d.to(u.arcsec)[0]:0.6f} away')"
   ]
  },
  {
   "cell_type": "code",
   "execution_count": null,
   "metadata": {},
   "outputs": [],
   "source": [
    "diaObjects_cat = pd.DataFrame(diaObjects_cat)\n",
    "objects_sel = diaObjects_cat.loc[:36]\n",
    "\n",
    "cutout_size = 100\n",
    "cutout_extent = lsst.geom.ExtentI(cutout_size, cutout_size)\n",
    "id=0\n",
    "for (_, object_this), gs_this in zip(objects_sel.iterrows(), gs):\n",
    "    radec = lsst.geom.SpherePoint(object_this[\"ra\"], object_this[\"dec\"], lsst.geom.degrees)\n",
    "    center = skymap.findTract(radec).getWcs().skyToPixel(radec)\n",
    "    bbox = lsst.geom.BoxI(lsst.geom.Point2I((center.x - cutout_size*0.5, center.y - cutout_size*0.5)), cutout_extent)\n",
    "\n",
    "    cutouts = [butler.get(\"deepCoadd_sub\", bbox=bbox, tract=4839, patch=\"0,0\", filter=band) for band in \"irg\"]\n",
    "    wcs_fits_meta = cutouts[0].getWcs().getFitsMetadata()\n",
    "    image_rgb = rgb.makeRGB(*cutouts)\n",
    "    del cutouts  # let gc save some memory for us\n",
    "\n",
    "    ax = plt.subplot(gs_this, projection=WCS(wcs_fits_meta), label=str(object_this[\"objectId\"]))\n",
    "    ax.imshow(image_rgb, origin='lower')\n",
    "    del image_rgb  # let gc save some memory for us\n",
    "    \n",
    "    for c in ax.coords:\n",
    "        c.set_ticklabel(exclude_overlapping=True, size=10)\n",
    "        c.set_axislabel('', size=0)\n"
   ]
  },
  {
   "cell_type": "code",
   "execution_count": null,
   "metadata": {},
   "outputs": [],
   "source": [
    "def plot_lightcurve(df, plot='mag', flux_col_names=None,\n",
    "                    title=None, marker='o', linestyle='none',\n",
    "                    colors=None, label_prefix='',\n",
    "                    **kwargs):\n",
    "    \"\"\"Plot a lightcurve from a DataFrame.\n",
    "    \"\"\"\n",
    "    # At lexigraphical order, if not wavelength order.\n",
    "    # Assume fixed list of filters.\n",
    "    filter_order = ['u', 'g', 'r', 'i', 'z', 'y']\n",
    "\n",
    "    if colors is None:\n",
    "        colors = {'u': 'violet', 'g': 'indigo', 'r': 'blue', 'i': 'green', 'z': 'orange', 'y': 'red'}\n",
    "    \n",
    "    if flux_col_names is not None:\n",
    "        flux_col, flux_err_col = flux_col_names\n",
    "    else:\n",
    "        if plot == 'flux':\n",
    "            flux_col = 'psFlux'\n",
    "            flux_err_col = 'psFluxErr'\n",
    "        else:\n",
    "            flux_col = 'mag'\n",
    "            flux_err_col = 'mag_err'\n",
    "        \n",
    "    for filt in filter_order:\n",
    "        this_filter = df.query(f'filter == \"{filt}\"')\n",
    "        if this_filter.empty:\n",
    "            continue\n",
    "        # This if sequence is a little silly.\n",
    "        plot_kwargs = {'linestyle': linestyle, 'marker': marker, 'color': colors[filt],\n",
    "                       'label': f'{label_prefix} {filt}'}\n",
    "        plot_kwargs.update(kwargs)\n",
    "\n",
    "        if flux_err_col in this_filter.columns:\n",
    "            plt.errorbar(this_filter['mjd'], this_filter[flux_col], this_filter[flux_err_col],\n",
    "                         **plot_kwargs)\n",
    "                        \n",
    "        else:\n",
    "            if marker is None:\n",
    "                plt.plot(this_filter['mjd'], this_filter[flux_col], **plot_kwargs)\n",
    "\n",
    "            else:\n",
    "                plot_kwargs.pop('linestyle')\n",
    "                plt.scatter(this_filter['mjd'], this_filter[flux_col], **plot_kwargs)\n",
    "\n",
    "\n",
    "\n",
    "    plt.xlabel('MJD')\n",
    "\n",
    "    if plot == 'flux':\n",
    "        plt.ylabel('psFlux [nJy]')\n",
    "    else:\n",
    "        # Ensure that y-axis decreases as one goes up\n",
    "        # Because plot_lightcurve could be called several times on the same axis,\n",
    "        # simply inverting is not correct.  We have to reverse a sorted list.\n",
    "        plt.ylim(sorted(plt.ylim(), reverse=True))\n",
    "        plt.ylabel('mag [AB]')\n",
    "\n",
    "    if title is not None:\n",
    "        plt.title(title)\n",
    "    plt.legend()"
   ]
  },
  {
   "cell_type": "code",
   "execution_count": null,
   "metadata": {},
   "outputs": [],
   "source": []
  }
 ],
 "metadata": {
  "kernelspec": {
   "display_name": "desc-stack",
   "language": "python",
   "name": "desc-stack"
  },
  "language_info": {
   "codemirror_mode": {
    "name": "ipython",
    "version": 3
   },
   "file_extension": ".py",
   "mimetype": "text/x-python",
   "name": "python",
   "nbconvert_exporter": "python",
   "pygments_lexer": "ipython3",
   "version": "3.7.2"
  }
 },
 "nbformat": 4,
 "nbformat_minor": 4
}
