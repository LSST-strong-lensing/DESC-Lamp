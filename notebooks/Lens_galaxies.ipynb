{
 "cells": [
  {
   "cell_type": "code",
   "execution_count": null,
   "metadata": {},
   "outputs": [],
   "source": [
    "# standard python imports\n",
    "import numpy as np\n",
    "import os\n",
    "import scipy\n",
    "import astropy.io.fits as pyfits\n",
    "import scipy.ndimage\n",
    "import matplotlib.pyplot as plt\n",
    "import imageio\n",
    "from mpl_toolkits.axes_grid1 import make_axes_locatable\n",
    "\n",
    "# lenstronomy utility functions\n",
    "import lenstronomy.Util.util as util\n",
    "import lenstronomy.Util.image_util as image_util\n",
    "import lenstronomy.Util.simulation_util as sim_util\n",
    "from lenstronomy.Data.imaging_data import ImageData\n",
    "from lenstronomy.Data.psf import PSF\n",
    "from lenstronomy.ImSim.image_model import ImageModel\n",
    "from lenstronomy.LensModel.lens_model import LensModel\n",
    "from lenstronomy.LightModel.light_model import LightModel\n",
    "\n",
    "import galsim"
   ]
  },
  {
   "cell_type": "markdown",
   "metadata": {},
   "source": [
    "# Lensed source images generation using galsim profiles\n",
    "\n",
    "In this notebook I generate images of lensed sources to then be injected in DC2/Rubin images. For now the images will be saved in a file, but ultimately, I will streamline the image generation process"
   ]
  },
  {
   "cell_type": "code",
   "execution_count": null,
   "metadata": {},
   "outputs": [],
   "source": [
    "# Load galsim catalog\n",
    "data_dir =galsim.meta_data.share_dir\n",
    "cat = galsim.COSMOSCatalog(dir=data_dir, file_name = 'real_galaxy_catalog_23.5_example.fits')"
   ]
  },
  {
   "cell_type": "code",
   "execution_count": null,
   "metadata": {},
   "outputs": [],
   "source": [
    "#Galsim galaxy object\n",
    "\n",
    "def draw_source(i, pix = 0.03, shape = [150,150], shift = [0,0], smooth = 0.06):\n",
    "    \n",
    "    gal = cat.makeGalaxy(i, gal_type = \"real\", noise_pad_size= 0).withFlux(1)\n",
    "    if smooth > 0:\n",
    "        gal = galsim.Convolve(gal, galsim.Gaussian(sigma=smooth))\n",
    "\n",
    "    gal = gal.shift(dx=shift[0], dy=shift[1])\n",
    "    \n",
    "    gal_image = gal.drawImage(nx=shape[0],\n",
    "                              ny=shape[1],\n",
    "                              use_true_center = True,\n",
    "                              method='real_space',\n",
    "                              scale=pix,\n",
    "                              dtype=np.float64).array\n",
    "    return gal_image"
   ]
  },
  {
   "cell_type": "code",
   "execution_count": null,
   "metadata": {},
   "outputs": [],
   "source": [
    "image = draw_source(63)#np.int(np.random.rand()*len(cat)))"
   ]
  },
  {
   "cell_type": "code",
   "execution_count": null,
   "metadata": {},
   "outputs": [],
   "source": [
    "# now we come to the Shapelet decomposition\n",
    "# we turn the image in a single 1d array\n",
    "image_1d = util.image2array(image)  # map 2d image in 1d data array\n",
    "\n",
    "# we define the shapelet basis set we want the image to decompose in\n",
    "n_max = 150  # choice of number of shapelet basis functions, 150 is a high resolution number, but takes long\n",
    "beta = 10  # shapelet scale parameter (in units of resized pixels)\n",
    "\n",
    "x, y = util.make_grid(numPix=n_max, deltapix=1)\n",
    "\n",
    "# import the ShapeletSet class\n",
    "from lenstronomy.LightModel.Profiles.shapelets import ShapeletSet\n",
    "from lenstronomy.LightModel.Profiles.shapelets_polar import ShapeletSetPolar\n",
    "shapeletSet = ShapeletSet()\n",
    "\n",
    "# decompose image and return the shapelet coefficients\n",
    "coeff_ngc = shapeletSet.decomposition(image_1d, x, y, n_max, beta, 1., center_x=0, center_y=0) "
   ]
  },
  {
   "cell_type": "code",
   "execution_count": null,
   "metadata": {},
   "outputs": [],
   "source": [
    "# reconstruct NGC1300 with the shapelet coefficients\n",
    "image_reconstructed = shapeletSet.function(x, y, coeff_ngc, n_max, beta, center_x=0, center_y=0)\n",
    "# turn 1d array back into 2d image\n",
    "image_reconstructed_2d = util.array2image(image_reconstructed)  # map 1d data vector in 2d image\n",
    "image_reconstructed_2d[image_reconstructed_2d<0] = 0\n",
    "\n",
    "plt.imshow(image_reconstructed_2d)\n",
    "plt.show()"
   ]
  },
  {
   "cell_type": "code",
   "execution_count": null,
   "metadata": {},
   "outputs": [],
   "source": [
    "# define data specifics\n",
    "background_rms = 10.  #  background noise per pixel\n",
    "exp_time = 100.  #  exposure time (arbitrary units, flux per pixel is in units #photons/exp_time unit)\n",
    "numPix = 64  #  cutout pixel size\n",
    "deltaPix = 0.05  #  pixel size in arcsec (area per pixel = deltaPix**2)\n",
    "high_res_factor = 5\n",
    "subgrid_res = high_res_factor  # we set the subgrid resolution to the high resolution image that we will show, so the same numerics will be applied.\n",
    "fwhm = 0.1 # full width half max of PSF\n",
    "psf_type = 'GAUSSIAN'  # 'gaussian', 'pixel', 'NONE'\n",
    "\n",
    "\n",
    "# define lens model\n",
    "lens_model_list = ['SPEP', 'SHEAR']\n",
    "kwargs_spemd = {'theta_E': 0.5, 'gamma': 2., 'center_x':0, 'center_y': 0, 'e1': 0, 'e2': 0}\n",
    "kwargs_shear = {'gamma1': 0.0, 'gamma2': 0.0}\n",
    "kwargs_lens = [kwargs_spemd, kwargs_shear]\n",
    "\n",
    "# define center of the source (effectively the center of the Shapelet basis)\n",
    "source_x = 0.2\n",
    "source_y = 0.\n",
    "\n",
    "# define the source size (effectively the Shapelet scale parameter)\n",
    "beta_model = 0.06\n",
    "# use the shapelet coefficients decomposed from NGC1300\n",
    "coeff = coeff_ngc / deltaPix**2\n",
    "kwargs_shapelet = {'n_max': n_max, 'beta': beta_model, 'amp': coeff, 'center_x': source_x, 'center_y': source_y}\n",
    "source_model_list = ['SHAPELETS']\n",
    "kwargs_source = [kwargs_shapelet]\n",
    "\n",
    "# for this example, we do not include deflector light\n",
    "lens_light_model_list = ['NONE']\n",
    "kwargs_lens_light = [{}]\n",
    "\n",
    "lensModel = LensModel(lens_model_list)\n",
    "sourceLightModel = LightModel(source_model_list)\n"
   ]
  },
  {
   "cell_type": "code",
   "execution_count": null,
   "metadata": {},
   "outputs": [],
   "source": [
    "\n",
    "\n",
    "# here we perform the computation with the settings choosen above.\n",
    "# We set up the different Data and PSF classes to perform and return the output at various stages of the computation\n",
    "# final data configuration\n",
    "kwargs_data_real = sim_util.data_configure_simple(numPix, deltaPix, exp_time, background_rms)\n",
    "data_real = ImageData(**kwargs_data_real)\n",
    "# high resolution data configuration\n",
    "kwargs_data_high_res = sim_util.data_configure_simple(numPix*high_res_factor, deltaPix/high_res_factor, exp_time, background_rms)\n",
    "data_high_res = ImageData(**kwargs_data_high_res)\n",
    "# final psf configuration\n",
    "#kwargs_psf = {'psf_type'}\n",
    "#kwargs_psf = sim_util.psf_configure_simple(psf_type=psf_type, fwhm=fwhm, truncate=10)\n",
    "psf = PSF(psf_type=psf_type, fwhm=fwhm, truncation=5)\n",
    "psf_high_res = psf\n",
    "# psf configuration performed on the high resolution gird (effectively the same convolution as the final psf)\n",
    "#kwargs_psf_high_res = sim_util.psf_configure_simple(psf_type=psf_type, fwhm=fwhm, kernelsize=31, deltaPix=deltaPix/high_res_factor, truncate=6, kernel=None)\n",
    "#psf_high_res = PSF(**kwargs_psf_high_res)\n",
    "# no psf convolution\n",
    "#kwargs_psf_no = sim_util.psf_configure_simple(psf_type='NONE')\n",
    "psf_no = PSF(psf_type='NONE')\n",
    "# the numerics applied on the final data output to perform the identical computation as the high resolution gird\n",
    "kwargs_numerics = {'supersampling_factor': subgrid_res, 'supersampling_convolution': True}\n",
    "\n",
    "# and here we perform the computations\n",
    "\n",
    "imageModel_high_res = ImageModel(data_class=data_high_res, psf_class=psf_no, kwargs_numerics={}, lens_model_class=lensModel, source_model_class=sourceLightModel)\n",
    "image_high_res_lensed = imageModel_high_res.image(kwargs_lens, kwargs_source, kwargs_lens_light=None, kwargs_ps=None)\n",
    "\n",
    "imageModel_ = ImageModel(data_class=data_high_res, psf_class=psf_no, kwargs_numerics={}, source_model_class=sourceLightModel)\n",
    "image_high_res_nolens_large = imageModel_.image(kwargs_lens=None, kwargs_source=kwargs_source, kwargs_lens_light=None, kwargs_ps=None)\n",
    "\n",
    "\n"
   ]
  },
  {
   "cell_type": "code",
   "execution_count": null,
   "metadata": {},
   "outputs": [],
   "source": [
    "# the result is illustrated here\n",
    "\n",
    "cmap_string = 'gray'\n",
    "cmap = plt.get_cmap(cmap_string)\n",
    "cmap.set_bad(color='k', alpha=1.)\n",
    "cmap.set_under('k')\n",
    "\n",
    "v_min = 0\n",
    "v_max = 2\n",
    "\n",
    "image_high_res_nolens_large[image_high_res_nolens_large<0]=0\n",
    "image_high_res_lensed[image_high_res_lensed<0]=0\n",
    "\n",
    "f, axes = plt.subplots(1, 2, figsize=(20, 10), sharex=False, sharey=False)\n",
    "\n",
    "ax = axes[0]\n",
    "im = ax.matshow((image_high_res_nolens_large), origin='lower', extent=[0, 1, 0, 1], cmap = \"gist_stern\")\n",
    "ax.get_xaxis().set_visible(False)\n",
    "ax.get_yaxis().set_visible(False)\n",
    "ax.autoscale(False)\n",
    "    \n",
    "ax = axes[1]\n",
    "im = ax.matshow((image_high_res_lensed), origin='lower', extent=[0, 1, 0, 1], cmap = \"gist_stern\")\n",
    "ax.get_xaxis().set_visible(False)\n",
    "ax.get_yaxis().set_visible(False)\n",
    "ax.autoscale(False)\n",
    "\n",
    "i = 0\n",
    "ax = axes[0]\n",
    "x_pos, y_pos = 0.05, 0.05\n",
    "fontsize_description = 30\n",
    "ax.text(x_pos, y_pos, \"intrinsic source\", color=\"w\", fontsize=fontsize_description)\n",
    "ax = axes[1]\n",
    "ax.text(x_pos, y_pos, \"+ lensing effect\", color=\"w\", fontsize=fontsize_description)\n",
    "f.tight_layout()\n",
    "f.subplots_adjust(left=None, bottom=None, right=None, top=None, wspace=0., hspace=0.05)\n",
    "#plt.savefig('/Users/sibirrer/Cosmology/Strong_Lensing/Papers/Lenstronomy/LenstronomyPaper/simAPI.pdf', format='pdf')\n",
    "plt.show()\n"
   ]
  },
  {
   "cell_type": "code",
   "execution_count": null,
   "metadata": {},
   "outputs": [],
   "source": [
    "# Interpolate hr image\n",
    "gal_hr = galsim.InterpolatedImage(galsim.Image(image_high_res_lensed), scale = 0.03)\n",
    "\n",
    "# Rotate hr galaxy to lr frame\n",
    "#rot_gal = gal_hr.rotate(galsim.Angle(angle, galsim.radians))\n",
    "\n",
    "# Downsamples to low resolution\n",
    "interp_gal = gal_hr.drawImage(nx=150,ny=150, scale=0.06, method='no_pixel',)\n",
    "img = interp_gal.array"
   ]
  },
  {
   "cell_type": "code",
   "execution_count": null,
   "metadata": {},
   "outputs": [],
   "source": [
    "plt.imshow(img, cmap = \"gist_stern\")\n",
    "plt.colorbar()\n",
    "plt.show()"
   ]
  },
  {
   "cell_type": "code",
   "execution_count": null,
   "metadata": {},
   "outputs": [],
   "source": [
    "import pickle\n",
    "\n",
    "file = open( \"lensed_source\", \"wb\" )\n",
    "pickle.dump( image_high_res_lensed, file)\n",
    "file.close()"
   ]
  },
  {
   "cell_type": "code",
   "execution_count": null,
   "metadata": {},
   "outputs": [],
   "source": []
  }
 ],
 "metadata": {
  "kernelspec": {
   "display_name": "nlp",
   "language": "python",
   "name": "nlp"
  },
  "language_info": {
   "codemirror_mode": {
    "name": "ipython",
    "version": 3
   },
   "file_extension": ".py",
   "mimetype": "text/x-python",
   "name": "python",
   "nbconvert_exporter": "python",
   "pygments_lexer": "ipython3",
   "version": "3.8.5"
  }
 },
 "nbformat": 4,
 "nbformat_minor": 4
}
